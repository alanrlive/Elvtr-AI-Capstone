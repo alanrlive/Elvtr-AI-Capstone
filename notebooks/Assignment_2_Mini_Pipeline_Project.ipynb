{
  "cells": [
    {
      "cell_type": "markdown",
      "metadata": {
        "id": "view-in-github",
        "colab_type": "text"
      },
      "source": [
        "<a href=\"https://colab.research.google.com/github/alanrlive/Elvtr-AI-Capstone/blob/master/notebooks/Assignment_2_Mini_Pipeline_Project.ipynb\" target=\"_parent\"><img src=\"https://colab.research.google.com/assets/colab-badge.svg\" alt=\"Open In Colab\"/></a>"
      ]
    },
    {
      "cell_type": "markdown",
      "id": "d842c42f",
      "metadata": {
        "id": "d842c42f"
      },
      "source": [
        "# California Housing Regression with scikit‑learn & MLflow (Google Colab)\n",
        "\n",
        "End‑to‑end ML pipeline **ready to run in Colab**:\n",
        "1. Install deps in the VM\n",
        "2. Mount Google Drive for persistent MLflow runs\n",
        "3. Expose the MLflow UI via **ngrok**\n",
        "4. Train & register a RandomForest model\n",
        "5. Optional: serve the model behind a public URL\n"
      ]
    },
    {
      "cell_type": "markdown",
      "id": "eaf67b10",
      "metadata": {
        "id": "eaf67b10"
      },
      "source": [
        "## 0  Install dependencies"
      ]
    },
    {
      "cell_type": "code",
      "execution_count": null,
      "id": "287b9b9a",
      "metadata": {
        "id": "287b9b9a"
      },
      "outputs": [],
      "source": [
        "!pip -q install --upgrade pip\n",
        "!pip -q install scikit-learn==1.4.2 mlflow pyngrok pandas numpy matplotlib seaborn\n",
        "# this will give errors however ok to proceed"
      ]
    },
    {
      "cell_type": "markdown",
      "id": "Z--_ywb0G0rX",
      "metadata": {
        "id": "Z--_ywb0G0rX"
      },
      "source": [
        "Set up Ngrok"
      ]
    },
    {
      "cell_type": "code",
      "execution_count": null,
      "id": "85od2sjjg2In",
      "metadata": {
        "colab": {
          "base_uri": "https://localhost:8080/"
        },
        "id": "85od2sjjg2In",
        "outputId": "6f10b10b-911c-40d5-8a3b-6068b9d2175b"
      },
      "outputs": [
        {
          "name": "stdout",
          "output_type": "stream",
          "text": [
            "Enter your Ngrok auth token: ··········\n"
          ]
        }
      ],
      "source": [
        "import getpass\n",
        "import os\n",
        "\n",
        "# Prompt for token securely (won't be displayed in Colab)\n",
        "ngrok_token = getpass.getpass('Enter your Ngrok auth token: ')\n",
        "\n",
        "# Set as environment variable\n",
        "os.environ['NGROK_AUTH_TOKEN'] = ngrok_token"
      ]
    },
    {
      "cell_type": "code",
      "execution_count": null,
      "id": "HWf56DKbg5wo",
      "metadata": {
        "colab": {
          "base_uri": "https://localhost:8080/"
        },
        "id": "HWf56DKbg5wo",
        "outputId": "8bf0e86a-131c-4449-89f2-d55967dd53e2"
      },
      "outputs": [
        {
          "output_type": "stream",
          "name": "stdout",
          "text": [
            "30Jpf...oPdEt\n"
          ]
        }
      ],
      "source": [
        "print(os.environ['NGROK_AUTH_TOKEN'][:5] + \"...\" + os.environ['NGROK_AUTH_TOKEN'][-5:])"
      ]
    },
    {
      "cell_type": "markdown",
      "id": "3woZcsycHLnn",
      "metadata": {
        "id": "3woZcsycHLnn"
      },
      "source": [
        "Install & Import Dependencies"
      ]
    },
    {
      "cell_type": "code",
      "execution_count": null,
      "id": "CMC9s01KHNzu",
      "metadata": {
        "id": "CMC9s01KHNzu"
      },
      "outputs": [],
      "source": [
        "# Core imports\n",
        "import os\n",
        "import numpy as np\n",
        "import pandas as pd\n",
        "\n",
        "# Scikit‑learn\n",
        "from sklearn.datasets import fetch_california_housing\n",
        "from sklearn.model_selection import train_test_split\n",
        "from sklearn.pipeline import Pipeline\n",
        "from sklearn.preprocessing import StandardScaler\n",
        "from sklearn.ensemble import RandomForestRegressor\n",
        "from sklearn.metrics import mean_squared_error, r2_score\n",
        "\n",
        "# MLflow\n",
        "import mlflow\n",
        "import mlflow.sklearn\n",
        "from mlflow.models.signature import infer_signature\n",
        "\n",
        "# Ngrok & async runner\n",
        "import nest_asyncio\n",
        "from pyngrok import ngrok\n"
      ]
    },
    {
      "cell_type": "code",
      "execution_count": null,
      "id": "011f18f7",
      "metadata": {
        "colab": {
          "base_uri": "https://localhost:8080/"
        },
        "id": "011f18f7",
        "outputId": "67cdf3f0-a441-43a4-cdda-ca681e3d4ae0"
      },
      "outputs": [
        {
          "output_type": "stream",
          "name": "stdout",
          "text": [
            "MLflow setup complete. Tracking URI: file:///content/drive/MyDrive/mlruns\n"
          ]
        }
      ],
      "source": [
        "# Configure MLflow to use Google Drive for tracking\n",
        "import mlflow\n",
        "\n",
        "mlflow.set_tracking_uri(\"file:///content/drive/MyDrive/mlruns\")\n",
        "mlflow.set_experiment(\"DS-Method-California-Housing\")\n",
        "\n",
        "print(\"MLflow setup complete. Tracking URI:\", mlflow.get_tracking_uri())"
      ]
    },
    {
      "cell_type": "markdown",
      "id": "VxzJfw5BJRmN",
      "metadata": {
        "id": "VxzJfw5BJRmN"
      },
      "source": [
        "Configure MLflow Tracking & Experiment"
      ]
    },
    {
      "cell_type": "code",
      "execution_count": null,
      "id": "PuJslm7fJT6Y",
      "metadata": {
        "colab": {
          "base_uri": "https://localhost:8080/"
        },
        "id": "PuJslm7fJT6Y",
        "outputId": "caf35953-d54b-47be-b754-e4b17833d84b"
      },
      "outputs": [
        {
          "output_type": "execute_result",
          "data": {
            "text/plain": [
              "<Experiment: artifact_location='file:///content/drive/MyDrive/mlruns/597534941026899228', creation_time=1753458650079, experiment_id='597534941026899228', last_update_time=1753458650079, lifecycle_stage='active', name='DS-Method-California-Housing', tags={}>"
            ]
          },
          "metadata": {},
          "execution_count": 40
        }
      ],
      "source": [
        "# Tell MLflow to use Drive folder\n",
        "mlflow.set_tracking_uri(\"file:///content/drive/MyDrive/mlruns\")\n",
        "mlflow.set_experiment(\"DS-Method-California-Housing\")\n"
      ]
    },
    {
      "cell_type": "markdown",
      "id": "LgK2wI7NJaCb",
      "metadata": {
        "id": "LgK2wI7NJaCb"
      },
      "source": [
        "Launch MLflow UI via Ngrok"
      ]
    },
    {
      "cell_type": "code",
      "execution_count": null,
      "id": "225f444d",
      "metadata": {
        "id": "225f444d",
        "colab": {
          "base_uri": "https://localhost:8080/"
        },
        "outputId": "8f2dbc64-39b8-494b-c787-ee6adbe5d34f"
      },
      "outputs": [
        {
          "output_type": "stream",
          "name": "stdout",
          "text": [
            "MLflow UI is available at: NgrokTunnel: \"https://7277270569a8.ngrok-free.app\" -> \"http://localhost:5000\"\n"
          ]
        }
      ],
      "source": [
        "# Launch MLflow UI via ngrok, pointing at Drive-backed store\n",
        "import nest_asyncio\n",
        "from pyngrok import ngrok\n",
        "ngrok.set_auth_token(os.environ['NGROK_AUTH_TOKEN'])\n",
        "nest_asyncio.apply()\n",
        "\n",
        "get_ipython().system_raw(\n",
        "    'mlflow ui '\n",
        "    '--backend-store-uri file:///content/drive/MyDrive/mlruns '\n",
        "    '--default-artifact-root file:///content/drive/MyDrive/mlruns '\n",
        "    '--host 0.0.0.0 --port 5000 &'\n",
        ")\n",
        "\n",
        "public_url = ngrok.connect(5000, bind_tls=True)\n",
        "print(\"MLflow UI is available at:\", public_url)"
      ]
    },
    {
      "cell_type": "markdown",
      "id": "VnvaXjuxJiV6",
      "metadata": {
        "id": "VnvaXjuxJiV6"
      },
      "source": [
        "Load & Inspect the Data"
      ]
    },
    {
      "cell_type": "code",
      "execution_count": null,
      "id": "l4MK2hDRJki8",
      "metadata": {
        "colab": {
          "base_uri": "https://localhost:8080/"
        },
        "id": "l4MK2hDRJki8",
        "outputId": "9421ef60-f0e0-42fd-af84-77dc08b95c10"
      },
      "outputs": [
        {
          "output_type": "execute_result",
          "data": {
            "text/plain": [
              "(   MedInc  HouseAge  AveRooms  AveBedrms  Population  AveOccup  Latitude  \\\n",
              " 0  8.3252      41.0  6.984127   1.023810       322.0  2.555556     37.88   \n",
              " 1  8.3014      21.0  6.238137   0.971880      2401.0  2.109842     37.86   \n",
              " 2  7.2574      52.0  8.288136   1.073446       496.0  2.802260     37.85   \n",
              " 3  5.6431      52.0  5.817352   1.073059       558.0  2.547945     37.85   \n",
              " 4  3.8462      52.0  6.281853   1.081081       565.0  2.181467     37.85   \n",
              " \n",
              "    Longitude  MedHouseVal  \n",
              " 0    -122.23        4.526  \n",
              " 1    -122.22        3.585  \n",
              " 2    -122.24        3.521  \n",
              " 3    -122.25        3.413  \n",
              " 4    -122.25        3.422  ,\n",
              "              MedInc      HouseAge      AveRooms     AveBedrms    Population  \\\n",
              " count  20640.000000  20640.000000  20640.000000  20640.000000  20640.000000   \n",
              " mean       3.870671     28.639486      5.429000      1.096675   1425.476744   \n",
              " std        1.899822     12.585558      2.474173      0.473911   1132.462122   \n",
              " min        0.499900      1.000000      0.846154      0.333333      3.000000   \n",
              " 25%        2.563400     18.000000      4.440716      1.006079    787.000000   \n",
              " 50%        3.534800     29.000000      5.229129      1.048780   1166.000000   \n",
              " 75%        4.743250     37.000000      6.052381      1.099526   1725.000000   \n",
              " max       15.000100     52.000000    141.909091     34.066667  35682.000000   \n",
              " \n",
              "            AveOccup      Latitude     Longitude   MedHouseVal  \n",
              " count  20640.000000  20640.000000  20640.000000  20640.000000  \n",
              " mean       3.070655     35.631861   -119.569704      2.068558  \n",
              " std       10.386050      2.135952      2.003532      1.153956  \n",
              " min        0.692308     32.540000   -124.350000      0.149990  \n",
              " 25%        2.429741     33.930000   -121.800000      1.196000  \n",
              " 50%        2.818116     34.260000   -118.490000      1.797000  \n",
              " 75%        3.282261     37.710000   -118.010000      2.647250  \n",
              " max     1243.333333     41.950000   -114.310000      5.000010  )"
            ]
          },
          "metadata": {},
          "execution_count": 42
        }
      ],
      "source": [
        "# Load dataset\n",
        "data = fetch_california_housing(as_frame=True)\n",
        "df = data.frame\n",
        "\n",
        "# Quick inspect\n",
        "df.head(), df.describe()\n"
      ]
    },
    {
      "cell_type": "markdown",
      "id": "o8ZQBX9FJw3o",
      "metadata": {
        "id": "o8ZQBX9FJw3o"
      },
      "source": [
        "Data Cleansing"
      ]
    },
    {
      "cell_type": "code",
      "execution_count": null,
      "id": "pF9BmO3lJ3iY",
      "metadata": {
        "colab": {
          "base_uri": "https://localhost:8080/"
        },
        "id": "pF9BmO3lJ3iY",
        "outputId": "bf3fb752-0aa8-4d2f-de01-cd230e2e5db9"
      },
      "outputs": [
        {
          "output_type": "stream",
          "name": "stdout",
          "text": [
            "Missing values in each column:\n",
            " MedInc         0\n",
            "HouseAge       0\n",
            "AveRooms       0\n",
            "AveBedrms      0\n",
            "Population     0\n",
            "AveOccup       0\n",
            "Latitude       0\n",
            "Longitude      0\n",
            "MedHouseVal    0\n",
            "dtype: int64\n",
            "Warning: Negative values found\n"
          ]
        }
      ],
      "source": [
        "# 1. Check for missing values\n",
        "print(\"Missing values in each column:\\n\", df.isnull().sum())\n",
        "\n",
        "# Optional: Drop duplicates if any\n",
        "df.drop_duplicates(inplace=True)\n",
        "\n",
        "# 2. Log transform skewed features\n",
        "df['Population'] = np.log1p(df['Population'])  # log(1 + x)\n",
        "df['AveOccup'] = np.log1p(df['AveOccup'])\n",
        "\n",
        "# 3. Basic sanity check – no negative values?\n",
        "if (df < 0).any().any():\n",
        "    print(\"Warning: Negative values found\")\n",
        "else:\n",
        "    print(\"All values are non-negative.\")"
      ]
    },
    {
      "cell_type": "code",
      "execution_count": null,
      "id": "sEve5AL9J-6-",
      "metadata": {
        "colab": {
          "base_uri": "https://localhost:8080/",
          "height": 431
        },
        "id": "sEve5AL9J-6-",
        "outputId": "8b14e105-b50d-446e-b979-758ce7410896"
      },
      "outputs": [
        {
          "output_type": "stream",
          "name": "stdout",
          "text": [
            "Negative values by column:\n",
            " MedInc             0\n",
            "HouseAge           0\n",
            "AveRooms           0\n",
            "AveBedrms          0\n",
            "Population         0\n",
            "AveOccup           0\n",
            "Latitude           0\n",
            "Longitude      20640\n",
            "MedHouseVal        0\n",
            "dtype: int64\n",
            "\n",
            "Negative values in column: Longitude\n"
          ]
        },
        {
          "output_type": "display_data",
          "data": {
            "text/plain": [
              "   MedInc  HouseAge  AveRooms  AveBedrms  Population  AveOccup  Latitude  \\\n",
              "0  8.3252      41.0  6.984127   1.023810    5.777652  1.268511     37.88   \n",
              "1  8.3014      21.0  6.238137   0.971880    7.784057  1.134572     37.86   \n",
              "2  7.2574      52.0  8.288136   1.073446    6.208590  1.335596     37.85   \n",
              "3  5.6431      52.0  5.817352   1.073059    6.326149  1.266369     37.85   \n",
              "4  3.8462      52.0  6.281853   1.081081    6.338594  1.157342     37.85   \n",
              "\n",
              "   Longitude  MedHouseVal  \n",
              "0    -122.23        4.526  \n",
              "1    -122.22        3.585  \n",
              "2    -122.24        3.521  \n",
              "3    -122.25        3.413  \n",
              "4    -122.25        3.422  "
            ],
            "text/html": [
              "\n",
              "  <div id=\"df-6d24276a-16d2-4a64-bcb4-05d8100c91fc\" class=\"colab-df-container\">\n",
              "    <div>\n",
              "<style scoped>\n",
              "    .dataframe tbody tr th:only-of-type {\n",
              "        vertical-align: middle;\n",
              "    }\n",
              "\n",
              "    .dataframe tbody tr th {\n",
              "        vertical-align: top;\n",
              "    }\n",
              "\n",
              "    .dataframe thead th {\n",
              "        text-align: right;\n",
              "    }\n",
              "</style>\n",
              "<table border=\"1\" class=\"dataframe\">\n",
              "  <thead>\n",
              "    <tr style=\"text-align: right;\">\n",
              "      <th></th>\n",
              "      <th>MedInc</th>\n",
              "      <th>HouseAge</th>\n",
              "      <th>AveRooms</th>\n",
              "      <th>AveBedrms</th>\n",
              "      <th>Population</th>\n",
              "      <th>AveOccup</th>\n",
              "      <th>Latitude</th>\n",
              "      <th>Longitude</th>\n",
              "      <th>MedHouseVal</th>\n",
              "    </tr>\n",
              "  </thead>\n",
              "  <tbody>\n",
              "    <tr>\n",
              "      <th>0</th>\n",
              "      <td>8.3252</td>\n",
              "      <td>41.0</td>\n",
              "      <td>6.984127</td>\n",
              "      <td>1.023810</td>\n",
              "      <td>5.777652</td>\n",
              "      <td>1.268511</td>\n",
              "      <td>37.88</td>\n",
              "      <td>-122.23</td>\n",
              "      <td>4.526</td>\n",
              "    </tr>\n",
              "    <tr>\n",
              "      <th>1</th>\n",
              "      <td>8.3014</td>\n",
              "      <td>21.0</td>\n",
              "      <td>6.238137</td>\n",
              "      <td>0.971880</td>\n",
              "      <td>7.784057</td>\n",
              "      <td>1.134572</td>\n",
              "      <td>37.86</td>\n",
              "      <td>-122.22</td>\n",
              "      <td>3.585</td>\n",
              "    </tr>\n",
              "    <tr>\n",
              "      <th>2</th>\n",
              "      <td>7.2574</td>\n",
              "      <td>52.0</td>\n",
              "      <td>8.288136</td>\n",
              "      <td>1.073446</td>\n",
              "      <td>6.208590</td>\n",
              "      <td>1.335596</td>\n",
              "      <td>37.85</td>\n",
              "      <td>-122.24</td>\n",
              "      <td>3.521</td>\n",
              "    </tr>\n",
              "    <tr>\n",
              "      <th>3</th>\n",
              "      <td>5.6431</td>\n",
              "      <td>52.0</td>\n",
              "      <td>5.817352</td>\n",
              "      <td>1.073059</td>\n",
              "      <td>6.326149</td>\n",
              "      <td>1.266369</td>\n",
              "      <td>37.85</td>\n",
              "      <td>-122.25</td>\n",
              "      <td>3.413</td>\n",
              "    </tr>\n",
              "    <tr>\n",
              "      <th>4</th>\n",
              "      <td>3.8462</td>\n",
              "      <td>52.0</td>\n",
              "      <td>6.281853</td>\n",
              "      <td>1.081081</td>\n",
              "      <td>6.338594</td>\n",
              "      <td>1.157342</td>\n",
              "      <td>37.85</td>\n",
              "      <td>-122.25</td>\n",
              "      <td>3.422</td>\n",
              "    </tr>\n",
              "  </tbody>\n",
              "</table>\n",
              "</div>\n",
              "    <div class=\"colab-df-buttons\">\n",
              "\n",
              "  <div class=\"colab-df-container\">\n",
              "    <button class=\"colab-df-convert\" onclick=\"convertToInteractive('df-6d24276a-16d2-4a64-bcb4-05d8100c91fc')\"\n",
              "            title=\"Convert this dataframe to an interactive table.\"\n",
              "            style=\"display:none;\">\n",
              "\n",
              "  <svg xmlns=\"http://www.w3.org/2000/svg\" height=\"24px\" viewBox=\"0 -960 960 960\">\n",
              "    <path d=\"M120-120v-720h720v720H120Zm60-500h600v-160H180v160Zm220 220h160v-160H400v160Zm0 220h160v-160H400v160ZM180-400h160v-160H180v160Zm440 0h160v-160H620v160ZM180-180h160v-160H180v160Zm440 0h160v-160H620v160Z\"/>\n",
              "  </svg>\n",
              "    </button>\n",
              "\n",
              "  <style>\n",
              "    .colab-df-container {\n",
              "      display:flex;\n",
              "      gap: 12px;\n",
              "    }\n",
              "\n",
              "    .colab-df-convert {\n",
              "      background-color: #E8F0FE;\n",
              "      border: none;\n",
              "      border-radius: 50%;\n",
              "      cursor: pointer;\n",
              "      display: none;\n",
              "      fill: #1967D2;\n",
              "      height: 32px;\n",
              "      padding: 0 0 0 0;\n",
              "      width: 32px;\n",
              "    }\n",
              "\n",
              "    .colab-df-convert:hover {\n",
              "      background-color: #E2EBFA;\n",
              "      box-shadow: 0px 1px 2px rgba(60, 64, 67, 0.3), 0px 1px 3px 1px rgba(60, 64, 67, 0.15);\n",
              "      fill: #174EA6;\n",
              "    }\n",
              "\n",
              "    .colab-df-buttons div {\n",
              "      margin-bottom: 4px;\n",
              "    }\n",
              "\n",
              "    [theme=dark] .colab-df-convert {\n",
              "      background-color: #3B4455;\n",
              "      fill: #D2E3FC;\n",
              "    }\n",
              "\n",
              "    [theme=dark] .colab-df-convert:hover {\n",
              "      background-color: #434B5C;\n",
              "      box-shadow: 0px 1px 3px 1px rgba(0, 0, 0, 0.15);\n",
              "      filter: drop-shadow(0px 1px 2px rgba(0, 0, 0, 0.3));\n",
              "      fill: #FFFFFF;\n",
              "    }\n",
              "  </style>\n",
              "\n",
              "    <script>\n",
              "      const buttonEl =\n",
              "        document.querySelector('#df-6d24276a-16d2-4a64-bcb4-05d8100c91fc button.colab-df-convert');\n",
              "      buttonEl.style.display =\n",
              "        google.colab.kernel.accessAllowed ? 'block' : 'none';\n",
              "\n",
              "      async function convertToInteractive(key) {\n",
              "        const element = document.querySelector('#df-6d24276a-16d2-4a64-bcb4-05d8100c91fc');\n",
              "        const dataTable =\n",
              "          await google.colab.kernel.invokeFunction('convertToInteractive',\n",
              "                                                    [key], {});\n",
              "        if (!dataTable) return;\n",
              "\n",
              "        const docLinkHtml = 'Like what you see? Visit the ' +\n",
              "          '<a target=\"_blank\" href=https://colab.research.google.com/notebooks/data_table.ipynb>data table notebook</a>'\n",
              "          + ' to learn more about interactive tables.';\n",
              "        element.innerHTML = '';\n",
              "        dataTable['output_type'] = 'display_data';\n",
              "        await google.colab.output.renderOutput(dataTable, element);\n",
              "        const docLink = document.createElement('div');\n",
              "        docLink.innerHTML = docLinkHtml;\n",
              "        element.appendChild(docLink);\n",
              "      }\n",
              "    </script>\n",
              "  </div>\n",
              "\n",
              "\n",
              "    <div id=\"df-53f32970-fad2-48e0-bfd7-22b7abe1395e\">\n",
              "      <button class=\"colab-df-quickchart\" onclick=\"quickchart('df-53f32970-fad2-48e0-bfd7-22b7abe1395e')\"\n",
              "                title=\"Suggest charts\"\n",
              "                style=\"display:none;\">\n",
              "\n",
              "<svg xmlns=\"http://www.w3.org/2000/svg\" height=\"24px\"viewBox=\"0 0 24 24\"\n",
              "     width=\"24px\">\n",
              "    <g>\n",
              "        <path d=\"M19 3H5c-1.1 0-2 .9-2 2v14c0 1.1.9 2 2 2h14c1.1 0 2-.9 2-2V5c0-1.1-.9-2-2-2zM9 17H7v-7h2v7zm4 0h-2V7h2v10zm4 0h-2v-4h2v4z\"/>\n",
              "    </g>\n",
              "</svg>\n",
              "      </button>\n",
              "\n",
              "<style>\n",
              "  .colab-df-quickchart {\n",
              "      --bg-color: #E8F0FE;\n",
              "      --fill-color: #1967D2;\n",
              "      --hover-bg-color: #E2EBFA;\n",
              "      --hover-fill-color: #174EA6;\n",
              "      --disabled-fill-color: #AAA;\n",
              "      --disabled-bg-color: #DDD;\n",
              "  }\n",
              "\n",
              "  [theme=dark] .colab-df-quickchart {\n",
              "      --bg-color: #3B4455;\n",
              "      --fill-color: #D2E3FC;\n",
              "      --hover-bg-color: #434B5C;\n",
              "      --hover-fill-color: #FFFFFF;\n",
              "      --disabled-bg-color: #3B4455;\n",
              "      --disabled-fill-color: #666;\n",
              "  }\n",
              "\n",
              "  .colab-df-quickchart {\n",
              "    background-color: var(--bg-color);\n",
              "    border: none;\n",
              "    border-radius: 50%;\n",
              "    cursor: pointer;\n",
              "    display: none;\n",
              "    fill: var(--fill-color);\n",
              "    height: 32px;\n",
              "    padding: 0;\n",
              "    width: 32px;\n",
              "  }\n",
              "\n",
              "  .colab-df-quickchart:hover {\n",
              "    background-color: var(--hover-bg-color);\n",
              "    box-shadow: 0 1px 2px rgba(60, 64, 67, 0.3), 0 1px 3px 1px rgba(60, 64, 67, 0.15);\n",
              "    fill: var(--button-hover-fill-color);\n",
              "  }\n",
              "\n",
              "  .colab-df-quickchart-complete:disabled,\n",
              "  .colab-df-quickchart-complete:disabled:hover {\n",
              "    background-color: var(--disabled-bg-color);\n",
              "    fill: var(--disabled-fill-color);\n",
              "    box-shadow: none;\n",
              "  }\n",
              "\n",
              "  .colab-df-spinner {\n",
              "    border: 2px solid var(--fill-color);\n",
              "    border-color: transparent;\n",
              "    border-bottom-color: var(--fill-color);\n",
              "    animation:\n",
              "      spin 1s steps(1) infinite;\n",
              "  }\n",
              "\n",
              "  @keyframes spin {\n",
              "    0% {\n",
              "      border-color: transparent;\n",
              "      border-bottom-color: var(--fill-color);\n",
              "      border-left-color: var(--fill-color);\n",
              "    }\n",
              "    20% {\n",
              "      border-color: transparent;\n",
              "      border-left-color: var(--fill-color);\n",
              "      border-top-color: var(--fill-color);\n",
              "    }\n",
              "    30% {\n",
              "      border-color: transparent;\n",
              "      border-left-color: var(--fill-color);\n",
              "      border-top-color: var(--fill-color);\n",
              "      border-right-color: var(--fill-color);\n",
              "    }\n",
              "    40% {\n",
              "      border-color: transparent;\n",
              "      border-right-color: var(--fill-color);\n",
              "      border-top-color: var(--fill-color);\n",
              "    }\n",
              "    60% {\n",
              "      border-color: transparent;\n",
              "      border-right-color: var(--fill-color);\n",
              "    }\n",
              "    80% {\n",
              "      border-color: transparent;\n",
              "      border-right-color: var(--fill-color);\n",
              "      border-bottom-color: var(--fill-color);\n",
              "    }\n",
              "    90% {\n",
              "      border-color: transparent;\n",
              "      border-bottom-color: var(--fill-color);\n",
              "    }\n",
              "  }\n",
              "</style>\n",
              "\n",
              "      <script>\n",
              "        async function quickchart(key) {\n",
              "          const quickchartButtonEl =\n",
              "            document.querySelector('#' + key + ' button');\n",
              "          quickchartButtonEl.disabled = true;  // To prevent multiple clicks.\n",
              "          quickchartButtonEl.classList.add('colab-df-spinner');\n",
              "          try {\n",
              "            const charts = await google.colab.kernel.invokeFunction(\n",
              "                'suggestCharts', [key], {});\n",
              "          } catch (error) {\n",
              "            console.error('Error during call to suggestCharts:', error);\n",
              "          }\n",
              "          quickchartButtonEl.classList.remove('colab-df-spinner');\n",
              "          quickchartButtonEl.classList.add('colab-df-quickchart-complete');\n",
              "        }\n",
              "        (() => {\n",
              "          let quickchartButtonEl =\n",
              "            document.querySelector('#df-53f32970-fad2-48e0-bfd7-22b7abe1395e button');\n",
              "          quickchartButtonEl.style.display =\n",
              "            google.colab.kernel.accessAllowed ? 'block' : 'none';\n",
              "        })();\n",
              "      </script>\n",
              "    </div>\n",
              "\n",
              "    </div>\n",
              "  </div>\n"
            ],
            "application/vnd.google.colaboratory.intrinsic+json": {
              "type": "dataframe",
              "summary": "{\n  \"name\": \"        display(df[df[col] < 0]\",\n  \"rows\": 5,\n  \"fields\": [\n    {\n      \"column\": \"MedInc\",\n      \"properties\": {\n        \"dtype\": \"number\",\n        \"std\": 1.9218775476080674,\n        \"min\": 3.8462,\n        \"max\": 8.3252,\n        \"num_unique_values\": 5,\n        \"samples\": [\n          8.3014,\n          3.8462,\n          7.2574\n        ],\n        \"semantic_type\": \"\",\n        \"description\": \"\"\n      }\n    },\n    {\n      \"column\": \"HouseAge\",\n      \"properties\": {\n        \"dtype\": \"number\",\n        \"std\": 13.501851724856113,\n        \"min\": 21.0,\n        \"max\": 52.0,\n        \"num_unique_values\": 3,\n        \"samples\": [\n          41.0,\n          21.0,\n          52.0\n        ],\n        \"semantic_type\": \"\",\n        \"description\": \"\"\n      }\n    },\n    {\n      \"column\": \"AveRooms\",\n      \"properties\": {\n        \"dtype\": \"number\",\n        \"std\": 0.9705323807243326,\n        \"min\": 5.8173515981735155,\n        \"max\": 8.288135593220339,\n        \"num_unique_values\": 5,\n        \"samples\": [\n          6.238137082601054,\n          6.281853281853282,\n          8.288135593220339\n        ],\n        \"semantic_type\": \"\",\n        \"description\": \"\"\n      }\n    },\n    {\n      \"column\": \"AveBedrms\",\n      \"properties\": {\n        \"dtype\": \"number\",\n        \"std\": 0.04661885487529508,\n        \"min\": 0.9718804920913884,\n        \"max\": 1.0810810810810811,\n        \"num_unique_values\": 5,\n        \"samples\": [\n          0.9718804920913884,\n          1.0810810810810811,\n          1.073446327683616\n        ],\n        \"semantic_type\": \"\",\n        \"description\": \"\"\n      }\n    },\n    {\n      \"column\": \"Population\",\n      \"properties\": {\n        \"dtype\": \"number\",\n        \"std\": 0.7600888628078419,\n        \"min\": 5.777652323222656,\n        \"max\": 7.784057002639929,\n        \"num_unique_values\": 5,\n        \"samples\": [\n          7.784057002639929,\n          6.338594078203183,\n          6.208590026096629\n        ],\n        \"semantic_type\": \"\",\n        \"description\": \"\"\n      }\n    },\n    {\n      \"column\": \"AveOccup\",\n      \"properties\": {\n        \"dtype\": \"number\",\n        \"std\": 0.08412962143310662,\n        \"min\": 1.1345718656591872,\n        \"max\": 1.3355955970708986,\n        \"num_unique_values\": 5,\n        \"samples\": [\n          1.1345718656591872,\n          1.1573424682099338,\n          1.3355955970708986\n        ],\n        \"semantic_type\": \"\",\n        \"description\": \"\"\n      }\n    },\n    {\n      \"column\": \"Latitude\",\n      \"properties\": {\n        \"dtype\": \"number\",\n        \"std\": 0.0130384048104057,\n        \"min\": 37.85,\n        \"max\": 37.88,\n        \"num_unique_values\": 3,\n        \"samples\": [\n          37.88,\n          37.86,\n          37.85\n        ],\n        \"semantic_type\": \"\",\n        \"description\": \"\"\n      }\n    },\n    {\n      \"column\": \"Longitude\",\n      \"properties\": {\n        \"dtype\": \"number\",\n        \"std\": 0.013038404810404884,\n        \"min\": -122.25,\n        \"max\": -122.22,\n        \"num_unique_values\": 4,\n        \"samples\": [\n          -122.22,\n          -122.25,\n          -122.23\n        ],\n        \"semantic_type\": \"\",\n        \"description\": \"\"\n      }\n    },\n    {\n      \"column\": \"MedHouseVal\",\n      \"properties\": {\n        \"dtype\": \"number\",\n        \"std\": 0.4708973348830931,\n        \"min\": 3.413,\n        \"max\": 4.526,\n        \"num_unique_values\": 5,\n        \"samples\": [\n          3.585,\n          3.422,\n          3.521\n        ],\n        \"semantic_type\": \"\",\n        \"description\": \"\"\n      }\n    }\n  ]\n}"
            }
          },
          "metadata": {}
        }
      ],
      "source": [
        "# Show number of negative values per column\n",
        "negative_counts = (df < 0).sum()\n",
        "print(\"Negative values by column:\\n\", negative_counts)\n",
        "\n",
        "# preview some rows\n",
        "for col in df.columns:\n",
        "    if (df[col] < 0).any():\n",
        "        print(f\"\\nNegative values in column: {col}\")\n",
        "        display(df[df[col] < 0].head())"
      ]
    },
    {
      "cell_type": "code",
      "execution_count": null,
      "id": "EV4jf_7SKF6V",
      "metadata": {
        "id": "EV4jf_7SKF6V"
      },
      "outputs": [],
      "source": [
        "# Add log-transformed versions\n",
        "df['Log_AveRooms'] = np.log1p(df['AveRooms'])\n",
        "df['Log_AveBedrms'] = np.log1p(df['AveBedrms'])\n",
        "df['Log_Population'] = np.log1p(df['Population'])\n",
        "df['Log_AveOccup'] = np.log1p(df['AveOccup'])"
      ]
    },
    {
      "cell_type": "markdown",
      "id": "NySj-AEPKHj_",
      "metadata": {
        "id": "NySj-AEPKHj_"
      },
      "source": [
        " Feature Engineering & Split"
      ]
    },
    {
      "cell_type": "code",
      "execution_count": null,
      "id": "zpHVEEI9KJ14",
      "metadata": {
        "id": "zpHVEEI9KJ14"
      },
      "outputs": [],
      "source": [
        "# Features & target\n",
        "features = ['MedInc','HouseAge','Latitude','Longitude',\n",
        "            'Log_AveRooms','Log_AveBedrms','Log_Population','Log_AveOccup']\n",
        "target   = 'MedHouseVal'\n",
        "\n",
        "X = df[features]\n",
        "y = df[target]\n",
        "\n",
        "# Split\n",
        "X_train, X_test, y_train, y_test = train_test_split(\n",
        "    X, y, test_size=0.20, random_state=42\n",
        ")\n"
      ]
    },
    {
      "cell_type": "markdown",
      "id": "AQET9n7RKTKz",
      "metadata": {
        "id": "AQET9n7RKTKz"
      },
      "source": [
        "Evaluate & Log to MLflow\n",
        "Compute RMSE/R², log params, metrics, model, and signature."
      ]
    },
    {
      "cell_type": "code",
      "execution_count": null,
      "id": "XjMJ9OycKN3E",
      "metadata": {
        "colab": {
          "base_uri": "https://localhost:8080/"
        },
        "id": "XjMJ9OycKN3E",
        "outputId": "8136a50b-d60f-4791-9417-d4351fd63ee9"
      },
      "outputs": [
        {
          "output_type": "stream",
          "name": "stderr",
          "text": [
            "WARNING:pyngrok.process.ngrok:t=2025-07-25T16:09:15+0000 lvl=warn msg=\"failed to check for update\" obj=updater err=\"Post \\\"https://update.equinox.io/check\\\": context deadline exceeded\"\n"
          ]
        },
        {
          "output_type": "stream",
          "name": "stdout",
          "text": [
            "Training complete.\n"
          ]
        }
      ],
      "source": [
        "pipeline = Pipeline([\n",
        "    ('scaler', StandardScaler()),\n",
        "    ('model',  RandomForestRegressor(n_estimators=100, random_state=42))\n",
        "])\n",
        "\n",
        "# Train\n",
        "pipeline.fit(X_train, y_train)\n",
        "print(\"Training complete.\")\n"
      ]
    },
    {
      "cell_type": "code",
      "execution_count": null,
      "id": "2jRE1O8AKV1Q",
      "metadata": {
        "colab": {
          "base_uri": "https://localhost:8080/"
        },
        "id": "2jRE1O8AKV1Q",
        "outputId": "183b2d29-16f6-4351-cb05-f777ed40b0e4"
      },
      "outputs": [
        {
          "output_type": "stream",
          "name": "stderr",
          "text": [
            "/usr/local/lib/python3.11/dist-packages/sklearn/metrics/_regression.py:483: FutureWarning: 'squared' is deprecated in version 1.4 and will be removed in 1.6. To calculate the root mean squared error, use the function'root_mean_squared_error'.\n",
            "  warnings.warn(\n",
            "2025/07/25 16:09:29 WARNING mlflow.models.model: `artifact_path` is deprecated. Please use `name` instead.\n"
          ]
        },
        {
          "output_type": "stream",
          "name": "stdout",
          "text": [
            "Logged run → RMSE: 0.5060, R²: 0.8046\n",
            "Loaded run_id: 8eef7591ef204221b1b8a4689bfb5d49\n"
          ]
        }
      ],
      "source": [
        "# Cell 9 – Evaluate & Log to MLflow\n",
        "from mlflow.models.signature import infer_signature\n",
        "\n",
        "# Predict & eval\n",
        "y_pred = pipeline.predict(X_test)\n",
        "rmse   = mean_squared_error(y_test, y_pred, squared=False)\n",
        "r2     = r2_score(y_test, y_pred)\n",
        "\n",
        "# Log in MLflow and capture run_id\n",
        "with mlflow.start_run() as run:\n",
        "    mlflow.log_param(\"model_type\", \"RandomForestRegressor\")\n",
        "    mlflow.log_param(\"n_estimators\", 100)\n",
        "    mlflow.log_metric(\"rmse\", rmse)\n",
        "    mlflow.log_metric(\"r2\", r2)\n",
        "\n",
        "    signature = infer_signature(X_test, y_pred)\n",
        "    mlflow.sklearn.log_model(\n",
        "        pipeline,\n",
        "        artifact_path=\"model\",\n",
        "        signature=signature,\n",
        "        input_example=X_test.iloc[:5]\n",
        "    )\n",
        "\n",
        "    run_id = run.info.run_id  # ← capture it here\n",
        "\n",
        "\n",
        "print(f\"Logged run → RMSE: {rmse:.4f}, R²: {r2:.4f}\")\n",
        "print(\"Loaded run_id:\", run_id)"
      ]
    },
    {
      "cell_type": "code",
      "execution_count": null,
      "id": "4EqK7CO1MtFJ",
      "metadata": {
        "colab": {
          "base_uri": "https://localhost:8080/",
          "height": 116,
          "referenced_widgets": [
            "fc4142e3b8f04aadb6882d59eea15c4f",
            "1e03013faa6940f3af580ed426e79d9b",
            "b703abf3aaf64fc29867cf8264fc5954",
            "a24fbe923ae74a4da435e063d33a6c21",
            "2c676dddc9334dfc89e8feb29d574f4c",
            "f81ac80d0d064c99a6b451996b44655d",
            "d8eb801ec14a4f27be35d37810b133b4",
            "ce7c503755534110be752583f9e12eee",
            "f64a3e7a08b847e882d50ed89dca0293",
            "e0c72ffcfff946298cea148c53137646",
            "bd067dba9fb14482ba3459989a12300c",
            "054a162be49e40bb98fb1cc43e932900",
            "14f61b69342f49fe86a45dbfe946813e",
            "571bb33d749d438a8880f7a589e9bd08",
            "b4f66af4e3ea4add9ac221aed095db10",
            "11ed51cc8d9048458b42d1f2df9f2c63",
            "1fba32b1900a4f3cb3bc3cfa715504cd",
            "c997540b2092404bba9748ea7b6c3867",
            "bf1c4d03991f41aaa606fd08c491716d",
            "cfffc55f2f224e1b854cac17b07d7be5",
            "63560a9dcd2845d8b7f3da7b5413d99b",
            "3f054c52d773475d9950bbfe1ec33502"
          ]
        },
        "id": "4EqK7CO1MtFJ",
        "outputId": "17a5eea4-49ef-4738-a1e4-d20623aff1ef"
      },
      "outputs": [
        {
          "output_type": "display_data",
          "data": {
            "text/plain": [
              "Downloading artifacts:   0%|          | 0/1 [00:00<?, ?it/s]"
            ],
            "application/vnd.jupyter.widget-view+json": {
              "version_major": 2,
              "version_minor": 0,
              "model_id": "fc4142e3b8f04aadb6882d59eea15c4f"
            }
          },
          "metadata": {}
        },
        {
          "output_type": "display_data",
          "data": {
            "text/plain": [
              "Downloading artifacts:   0%|          | 0/7 [00:00<?, ?it/s]"
            ],
            "application/vnd.jupyter.widget-view+json": {
              "version_major": 2,
              "version_minor": 0,
              "model_id": "054a162be49e40bb98fb1cc43e932900"
            }
          },
          "metadata": {}
        },
        {
          "output_type": "stream",
          "name": "stdout",
          "text": [
            "Loaded run_id: 8eef7591ef204221b1b8a4689bfb5d49\n",
            "Sample preds: [0.50784  0.74033  4.904767]\n"
          ]
        }
      ],
      "source": [
        "from mlflow.tracking import MlflowClient\n",
        "\n",
        "client       = MlflowClient()\n",
        "exp         = client.get_experiment_by_name(\"DS-Method-California-Housing\")\n",
        "exp_id      = exp.experiment_id\n",
        "runs        = client.search_runs(experiment_ids=[exp_id],\n",
        "                                order_by=[\"attributes.start_time DESC\"],\n",
        "                                max_results=1)\n",
        "latest_run  = runs[0]\n",
        "run_id      = latest_run.info.run_id\n",
        "\n",
        "model_uri   = f\"runs:/{run_id}/model\"\n",
        "loaded_pipe = mlflow.sklearn.load_model(model_uri)\n",
        "print(\"Loaded run_id:\", run_id)\n",
        "print(\"Sample preds:\", loaded_pipe.predict(X_test.iloc[:3]))\n"
      ]
    },
    {
      "cell_type": "markdown",
      "id": "wLw2eh9lKOMk",
      "metadata": {
        "id": "wLw2eh9lKOMk"
      },
      "source": [
        "Build & Train the Pipeline"
      ]
    },
    {
      "cell_type": "markdown",
      "id": "ifP5_M_5KcqS",
      "metadata": {
        "id": "ifP5_M_5KcqS"
      },
      "source": [
        "(Optional) Mock Deployment Snippet"
      ]
    },
    {
      "cell_type": "code",
      "execution_count": null,
      "id": "C3GTsL3UKeSh",
      "metadata": {
        "colab": {
          "base_uri": "https://localhost:8080/",
          "height": 98,
          "referenced_widgets": [
            "8e63d2b86d4845ca8e76f25eef0549e7",
            "0faa83c0783541cb9ea842d739fcf0bd",
            "909604dc3e004c7284770dd97f5dab13",
            "e67db08cd5e1460fa1224e7558133255",
            "04b58dbc67a14b4098ffe1ac0681e631",
            "c67aea32e51d47319c191f2eb3d83f40",
            "91da85030f9049cd812b27f5fdbc152e",
            "53fcdc4994aa41d9988c2b278cff2f43",
            "41f09ad25e454e129436b93acbe98ab3",
            "9bc80aab70e24a68825e88505431e6e8",
            "f3f717b77d35464aa43e695cfe1344df",
            "ad2ea6c8c8614877ad11655e6a864fa5",
            "cf8c220e89a04330a4d9865f85bf37c3",
            "10b4ae0af81f46b1b72e05765d280457",
            "8d42197dac4540e09ea707553faae689",
            "a1803815030b489285de9b76dad796cd",
            "cff7a6e0194349f2a8ecd847df4306d0",
            "dd7ead02bb5d4eaba8c4ede55340a24f",
            "875c258c600e4a429bcb732607296d08",
            "6ada8131e26a460b8ba4ba2d46856ef0",
            "cf7691fdf80b42609daf48fae5f2602d",
            "60233bb2247e431398b9735a9f6e55e3"
          ]
        },
        "id": "C3GTsL3UKeSh",
        "outputId": "8ed4c45e-2281-4c7b-cd4c-a5059a8ca037"
      },
      "outputs": [
        {
          "output_type": "display_data",
          "data": {
            "text/plain": [
              "Downloading artifacts:   0%|          | 0/1 [00:00<?, ?it/s]"
            ],
            "application/vnd.jupyter.widget-view+json": {
              "version_major": 2,
              "version_minor": 0,
              "model_id": "8e63d2b86d4845ca8e76f25eef0549e7"
            }
          },
          "metadata": {}
        },
        {
          "output_type": "display_data",
          "data": {
            "text/plain": [
              "Downloading artifacts:   0%|          | 0/7 [00:00<?, ?it/s]"
            ],
            "application/vnd.jupyter.widget-view+json": {
              "version_major": 2,
              "version_minor": 0,
              "model_id": "ad2ea6c8c8614877ad11655e6a864fa5"
            }
          },
          "metadata": {}
        },
        {
          "output_type": "stream",
          "name": "stdout",
          "text": [
            "Sample prediction: [0.50784  0.74033  4.904767]\n"
          ]
        }
      ],
      "source": [
        "# Load the logged model for inference\n",
        "model_uri = f\"runs:/{run_id}/model\"\n",
        "loaded_pipeline = mlflow.sklearn.load_model(model_uri)\n",
        "\n",
        "# Sample prediction\n",
        "print(\"Sample prediction:\", loaded_pipeline.predict(X_test.iloc[:3]))\n"
      ]
    }
  ],
  "metadata": {
    "colab": {
      "provenance": [],
      "toc_visible": true,
      "include_colab_link": true
    },
    "kernelspec": {
      "display_name": "Python 3 (ipykernel)",
      "language": "python",
      "name": "python3"
    },
    "language_info": {
      "codemirror_mode": {
        "name": "ipython",
        "version": 3
      },
      "file_extension": ".py",
      "mimetype": "text/x-python",
      "name": "python",
      "nbconvert_exporter": "python",
      "pygments_lexer": "ipython3",
      "version": "3.12.10"
    },
    "widgets": {
      "application/vnd.jupyter.widget-state+json": {
        "fc4142e3b8f04aadb6882d59eea15c4f": {
          "model_module": "@jupyter-widgets/controls",
          "model_name": "HBoxModel",
          "model_module_version": "1.5.0",
          "state": {
            "_dom_classes": [],
            "_model_module": "@jupyter-widgets/controls",
            "_model_module_version": "1.5.0",
            "_model_name": "HBoxModel",
            "_view_count": null,
            "_view_module": "@jupyter-widgets/controls",
            "_view_module_version": "1.5.0",
            "_view_name": "HBoxView",
            "box_style": "",
            "children": [
              "IPY_MODEL_1e03013faa6940f3af580ed426e79d9b",
              "IPY_MODEL_b703abf3aaf64fc29867cf8264fc5954",
              "IPY_MODEL_a24fbe923ae74a4da435e063d33a6c21"
            ],
            "layout": "IPY_MODEL_2c676dddc9334dfc89e8feb29d574f4c"
          }
        },
        "1e03013faa6940f3af580ed426e79d9b": {
          "model_module": "@jupyter-widgets/controls",
          "model_name": "HTMLModel",
          "model_module_version": "1.5.0",
          "state": {
            "_dom_classes": [],
            "_model_module": "@jupyter-widgets/controls",
            "_model_module_version": "1.5.0",
            "_model_name": "HTMLModel",
            "_view_count": null,
            "_view_module": "@jupyter-widgets/controls",
            "_view_module_version": "1.5.0",
            "_view_name": "HTMLView",
            "description": "",
            "description_tooltip": null,
            "layout": "IPY_MODEL_f81ac80d0d064c99a6b451996b44655d",
            "placeholder": "​",
            "style": "IPY_MODEL_d8eb801ec14a4f27be35d37810b133b4",
            "value": "Downloading artifacts:   0%"
          }
        },
        "b703abf3aaf64fc29867cf8264fc5954": {
          "model_module": "@jupyter-widgets/controls",
          "model_name": "FloatProgressModel",
          "model_module_version": "1.5.0",
          "state": {
            "_dom_classes": [],
            "_model_module": "@jupyter-widgets/controls",
            "_model_module_version": "1.5.0",
            "_model_name": "FloatProgressModel",
            "_view_count": null,
            "_view_module": "@jupyter-widgets/controls",
            "_view_module_version": "1.5.0",
            "_view_name": "ProgressView",
            "bar_style": "danger",
            "description": "",
            "description_tooltip": null,
            "layout": "IPY_MODEL_ce7c503755534110be752583f9e12eee",
            "max": 1,
            "min": 0,
            "orientation": "horizontal",
            "style": "IPY_MODEL_f64a3e7a08b847e882d50ed89dca0293",
            "value": 0
          }
        },
        "a24fbe923ae74a4da435e063d33a6c21": {
          "model_module": "@jupyter-widgets/controls",
          "model_name": "HTMLModel",
          "model_module_version": "1.5.0",
          "state": {
            "_dom_classes": [],
            "_model_module": "@jupyter-widgets/controls",
            "_model_module_version": "1.5.0",
            "_model_name": "HTMLModel",
            "_view_count": null,
            "_view_module": "@jupyter-widgets/controls",
            "_view_module_version": "1.5.0",
            "_view_name": "HTMLView",
            "description": "",
            "description_tooltip": null,
            "layout": "IPY_MODEL_e0c72ffcfff946298cea148c53137646",
            "placeholder": "​",
            "style": "IPY_MODEL_bd067dba9fb14482ba3459989a12300c",
            "value": " 0/1 [00:00&lt;?, ?it/s]"
          }
        },
        "2c676dddc9334dfc89e8feb29d574f4c": {
          "model_module": "@jupyter-widgets/base",
          "model_name": "LayoutModel",
          "model_module_version": "1.2.0",
          "state": {
            "_model_module": "@jupyter-widgets/base",
            "_model_module_version": "1.2.0",
            "_model_name": "LayoutModel",
            "_view_count": null,
            "_view_module": "@jupyter-widgets/base",
            "_view_module_version": "1.2.0",
            "_view_name": "LayoutView",
            "align_content": null,
            "align_items": null,
            "align_self": null,
            "border": null,
            "bottom": null,
            "display": null,
            "flex": null,
            "flex_flow": null,
            "grid_area": null,
            "grid_auto_columns": null,
            "grid_auto_flow": null,
            "grid_auto_rows": null,
            "grid_column": null,
            "grid_gap": null,
            "grid_row": null,
            "grid_template_areas": null,
            "grid_template_columns": null,
            "grid_template_rows": null,
            "height": null,
            "justify_content": null,
            "justify_items": null,
            "left": null,
            "margin": null,
            "max_height": null,
            "max_width": null,
            "min_height": null,
            "min_width": null,
            "object_fit": null,
            "object_position": null,
            "order": null,
            "overflow": null,
            "overflow_x": null,
            "overflow_y": null,
            "padding": null,
            "right": null,
            "top": null,
            "visibility": null,
            "width": null
          }
        },
        "f81ac80d0d064c99a6b451996b44655d": {
          "model_module": "@jupyter-widgets/base",
          "model_name": "LayoutModel",
          "model_module_version": "1.2.0",
          "state": {
            "_model_module": "@jupyter-widgets/base",
            "_model_module_version": "1.2.0",
            "_model_name": "LayoutModel",
            "_view_count": null,
            "_view_module": "@jupyter-widgets/base",
            "_view_module_version": "1.2.0",
            "_view_name": "LayoutView",
            "align_content": null,
            "align_items": null,
            "align_self": null,
            "border": null,
            "bottom": null,
            "display": null,
            "flex": null,
            "flex_flow": null,
            "grid_area": null,
            "grid_auto_columns": null,
            "grid_auto_flow": null,
            "grid_auto_rows": null,
            "grid_column": null,
            "grid_gap": null,
            "grid_row": null,
            "grid_template_areas": null,
            "grid_template_columns": null,
            "grid_template_rows": null,
            "height": null,
            "justify_content": null,
            "justify_items": null,
            "left": null,
            "margin": null,
            "max_height": null,
            "max_width": null,
            "min_height": null,
            "min_width": null,
            "object_fit": null,
            "object_position": null,
            "order": null,
            "overflow": null,
            "overflow_x": null,
            "overflow_y": null,
            "padding": null,
            "right": null,
            "top": null,
            "visibility": null,
            "width": null
          }
        },
        "d8eb801ec14a4f27be35d37810b133b4": {
          "model_module": "@jupyter-widgets/controls",
          "model_name": "DescriptionStyleModel",
          "model_module_version": "1.5.0",
          "state": {
            "_model_module": "@jupyter-widgets/controls",
            "_model_module_version": "1.5.0",
            "_model_name": "DescriptionStyleModel",
            "_view_count": null,
            "_view_module": "@jupyter-widgets/base",
            "_view_module_version": "1.2.0",
            "_view_name": "StyleView",
            "description_width": ""
          }
        },
        "ce7c503755534110be752583f9e12eee": {
          "model_module": "@jupyter-widgets/base",
          "model_name": "LayoutModel",
          "model_module_version": "1.2.0",
          "state": {
            "_model_module": "@jupyter-widgets/base",
            "_model_module_version": "1.2.0",
            "_model_name": "LayoutModel",
            "_view_count": null,
            "_view_module": "@jupyter-widgets/base",
            "_view_module_version": "1.2.0",
            "_view_name": "LayoutView",
            "align_content": null,
            "align_items": null,
            "align_self": null,
            "border": null,
            "bottom": null,
            "display": null,
            "flex": null,
            "flex_flow": null,
            "grid_area": null,
            "grid_auto_columns": null,
            "grid_auto_flow": null,
            "grid_auto_rows": null,
            "grid_column": null,
            "grid_gap": null,
            "grid_row": null,
            "grid_template_areas": null,
            "grid_template_columns": null,
            "grid_template_rows": null,
            "height": null,
            "justify_content": null,
            "justify_items": null,
            "left": null,
            "margin": null,
            "max_height": null,
            "max_width": null,
            "min_height": null,
            "min_width": null,
            "object_fit": null,
            "object_position": null,
            "order": null,
            "overflow": null,
            "overflow_x": null,
            "overflow_y": null,
            "padding": null,
            "right": null,
            "top": null,
            "visibility": null,
            "width": null
          }
        },
        "f64a3e7a08b847e882d50ed89dca0293": {
          "model_module": "@jupyter-widgets/controls",
          "model_name": "ProgressStyleModel",
          "model_module_version": "1.5.0",
          "state": {
            "_model_module": "@jupyter-widgets/controls",
            "_model_module_version": "1.5.0",
            "_model_name": "ProgressStyleModel",
            "_view_count": null,
            "_view_module": "@jupyter-widgets/base",
            "_view_module_version": "1.2.0",
            "_view_name": "StyleView",
            "bar_color": null,
            "description_width": ""
          }
        },
        "e0c72ffcfff946298cea148c53137646": {
          "model_module": "@jupyter-widgets/base",
          "model_name": "LayoutModel",
          "model_module_version": "1.2.0",
          "state": {
            "_model_module": "@jupyter-widgets/base",
            "_model_module_version": "1.2.0",
            "_model_name": "LayoutModel",
            "_view_count": null,
            "_view_module": "@jupyter-widgets/base",
            "_view_module_version": "1.2.0",
            "_view_name": "LayoutView",
            "align_content": null,
            "align_items": null,
            "align_self": null,
            "border": null,
            "bottom": null,
            "display": null,
            "flex": null,
            "flex_flow": null,
            "grid_area": null,
            "grid_auto_columns": null,
            "grid_auto_flow": null,
            "grid_auto_rows": null,
            "grid_column": null,
            "grid_gap": null,
            "grid_row": null,
            "grid_template_areas": null,
            "grid_template_columns": null,
            "grid_template_rows": null,
            "height": null,
            "justify_content": null,
            "justify_items": null,
            "left": null,
            "margin": null,
            "max_height": null,
            "max_width": null,
            "min_height": null,
            "min_width": null,
            "object_fit": null,
            "object_position": null,
            "order": null,
            "overflow": null,
            "overflow_x": null,
            "overflow_y": null,
            "padding": null,
            "right": null,
            "top": null,
            "visibility": null,
            "width": null
          }
        },
        "bd067dba9fb14482ba3459989a12300c": {
          "model_module": "@jupyter-widgets/controls",
          "model_name": "DescriptionStyleModel",
          "model_module_version": "1.5.0",
          "state": {
            "_model_module": "@jupyter-widgets/controls",
            "_model_module_version": "1.5.0",
            "_model_name": "DescriptionStyleModel",
            "_view_count": null,
            "_view_module": "@jupyter-widgets/base",
            "_view_module_version": "1.2.0",
            "_view_name": "StyleView",
            "description_width": ""
          }
        },
        "054a162be49e40bb98fb1cc43e932900": {
          "model_module": "@jupyter-widgets/controls",
          "model_name": "HBoxModel",
          "model_module_version": "1.5.0",
          "state": {
            "_dom_classes": [],
            "_model_module": "@jupyter-widgets/controls",
            "_model_module_version": "1.5.0",
            "_model_name": "HBoxModel",
            "_view_count": null,
            "_view_module": "@jupyter-widgets/controls",
            "_view_module_version": "1.5.0",
            "_view_name": "HBoxView",
            "box_style": "",
            "children": [
              "IPY_MODEL_14f61b69342f49fe86a45dbfe946813e",
              "IPY_MODEL_571bb33d749d438a8880f7a589e9bd08",
              "IPY_MODEL_b4f66af4e3ea4add9ac221aed095db10"
            ],
            "layout": "IPY_MODEL_11ed51cc8d9048458b42d1f2df9f2c63"
          }
        },
        "14f61b69342f49fe86a45dbfe946813e": {
          "model_module": "@jupyter-widgets/controls",
          "model_name": "HTMLModel",
          "model_module_version": "1.5.0",
          "state": {
            "_dom_classes": [],
            "_model_module": "@jupyter-widgets/controls",
            "_model_module_version": "1.5.0",
            "_model_name": "HTMLModel",
            "_view_count": null,
            "_view_module": "@jupyter-widgets/controls",
            "_view_module_version": "1.5.0",
            "_view_name": "HTMLView",
            "description": "",
            "description_tooltip": null,
            "layout": "IPY_MODEL_1fba32b1900a4f3cb3bc3cfa715504cd",
            "placeholder": "​",
            "style": "IPY_MODEL_c997540b2092404bba9748ea7b6c3867",
            "value": "Downloading artifacts: 100%"
          }
        },
        "571bb33d749d438a8880f7a589e9bd08": {
          "model_module": "@jupyter-widgets/controls",
          "model_name": "FloatProgressModel",
          "model_module_version": "1.5.0",
          "state": {
            "_dom_classes": [],
            "_model_module": "@jupyter-widgets/controls",
            "_model_module_version": "1.5.0",
            "_model_name": "FloatProgressModel",
            "_view_count": null,
            "_view_module": "@jupyter-widgets/controls",
            "_view_module_version": "1.5.0",
            "_view_name": "ProgressView",
            "bar_style": "success",
            "description": "",
            "description_tooltip": null,
            "layout": "IPY_MODEL_bf1c4d03991f41aaa606fd08c491716d",
            "max": 7,
            "min": 0,
            "orientation": "horizontal",
            "style": "IPY_MODEL_cfffc55f2f224e1b854cac17b07d7be5",
            "value": 7
          }
        },
        "b4f66af4e3ea4add9ac221aed095db10": {
          "model_module": "@jupyter-widgets/controls",
          "model_name": "HTMLModel",
          "model_module_version": "1.5.0",
          "state": {
            "_dom_classes": [],
            "_model_module": "@jupyter-widgets/controls",
            "_model_module_version": "1.5.0",
            "_model_name": "HTMLModel",
            "_view_count": null,
            "_view_module": "@jupyter-widgets/controls",
            "_view_module_version": "1.5.0",
            "_view_name": "HTMLView",
            "description": "",
            "description_tooltip": null,
            "layout": "IPY_MODEL_63560a9dcd2845d8b7f3da7b5413d99b",
            "placeholder": "​",
            "style": "IPY_MODEL_3f054c52d773475d9950bbfe1ec33502",
            "value": " 7/7 [00:02&lt;00:00,  2.72it/s]"
          }
        },
        "11ed51cc8d9048458b42d1f2df9f2c63": {
          "model_module": "@jupyter-widgets/base",
          "model_name": "LayoutModel",
          "model_module_version": "1.2.0",
          "state": {
            "_model_module": "@jupyter-widgets/base",
            "_model_module_version": "1.2.0",
            "_model_name": "LayoutModel",
            "_view_count": null,
            "_view_module": "@jupyter-widgets/base",
            "_view_module_version": "1.2.0",
            "_view_name": "LayoutView",
            "align_content": null,
            "align_items": null,
            "align_self": null,
            "border": null,
            "bottom": null,
            "display": null,
            "flex": null,
            "flex_flow": null,
            "grid_area": null,
            "grid_auto_columns": null,
            "grid_auto_flow": null,
            "grid_auto_rows": null,
            "grid_column": null,
            "grid_gap": null,
            "grid_row": null,
            "grid_template_areas": null,
            "grid_template_columns": null,
            "grid_template_rows": null,
            "height": null,
            "justify_content": null,
            "justify_items": null,
            "left": null,
            "margin": null,
            "max_height": null,
            "max_width": null,
            "min_height": null,
            "min_width": null,
            "object_fit": null,
            "object_position": null,
            "order": null,
            "overflow": null,
            "overflow_x": null,
            "overflow_y": null,
            "padding": null,
            "right": null,
            "top": null,
            "visibility": null,
            "width": null
          }
        },
        "1fba32b1900a4f3cb3bc3cfa715504cd": {
          "model_module": "@jupyter-widgets/base",
          "model_name": "LayoutModel",
          "model_module_version": "1.2.0",
          "state": {
            "_model_module": "@jupyter-widgets/base",
            "_model_module_version": "1.2.0",
            "_model_name": "LayoutModel",
            "_view_count": null,
            "_view_module": "@jupyter-widgets/base",
            "_view_module_version": "1.2.0",
            "_view_name": "LayoutView",
            "align_content": null,
            "align_items": null,
            "align_self": null,
            "border": null,
            "bottom": null,
            "display": null,
            "flex": null,
            "flex_flow": null,
            "grid_area": null,
            "grid_auto_columns": null,
            "grid_auto_flow": null,
            "grid_auto_rows": null,
            "grid_column": null,
            "grid_gap": null,
            "grid_row": null,
            "grid_template_areas": null,
            "grid_template_columns": null,
            "grid_template_rows": null,
            "height": null,
            "justify_content": null,
            "justify_items": null,
            "left": null,
            "margin": null,
            "max_height": null,
            "max_width": null,
            "min_height": null,
            "min_width": null,
            "object_fit": null,
            "object_position": null,
            "order": null,
            "overflow": null,
            "overflow_x": null,
            "overflow_y": null,
            "padding": null,
            "right": null,
            "top": null,
            "visibility": null,
            "width": null
          }
        },
        "c997540b2092404bba9748ea7b6c3867": {
          "model_module": "@jupyter-widgets/controls",
          "model_name": "DescriptionStyleModel",
          "model_module_version": "1.5.0",
          "state": {
            "_model_module": "@jupyter-widgets/controls",
            "_model_module_version": "1.5.0",
            "_model_name": "DescriptionStyleModel",
            "_view_count": null,
            "_view_module": "@jupyter-widgets/base",
            "_view_module_version": "1.2.0",
            "_view_name": "StyleView",
            "description_width": ""
          }
        },
        "bf1c4d03991f41aaa606fd08c491716d": {
          "model_module": "@jupyter-widgets/base",
          "model_name": "LayoutModel",
          "model_module_version": "1.2.0",
          "state": {
            "_model_module": "@jupyter-widgets/base",
            "_model_module_version": "1.2.0",
            "_model_name": "LayoutModel",
            "_view_count": null,
            "_view_module": "@jupyter-widgets/base",
            "_view_module_version": "1.2.0",
            "_view_name": "LayoutView",
            "align_content": null,
            "align_items": null,
            "align_self": null,
            "border": null,
            "bottom": null,
            "display": null,
            "flex": null,
            "flex_flow": null,
            "grid_area": null,
            "grid_auto_columns": null,
            "grid_auto_flow": null,
            "grid_auto_rows": null,
            "grid_column": null,
            "grid_gap": null,
            "grid_row": null,
            "grid_template_areas": null,
            "grid_template_columns": null,
            "grid_template_rows": null,
            "height": null,
            "justify_content": null,
            "justify_items": null,
            "left": null,
            "margin": null,
            "max_height": null,
            "max_width": null,
            "min_height": null,
            "min_width": null,
            "object_fit": null,
            "object_position": null,
            "order": null,
            "overflow": null,
            "overflow_x": null,
            "overflow_y": null,
            "padding": null,
            "right": null,
            "top": null,
            "visibility": null,
            "width": null
          }
        },
        "cfffc55f2f224e1b854cac17b07d7be5": {
          "model_module": "@jupyter-widgets/controls",
          "model_name": "ProgressStyleModel",
          "model_module_version": "1.5.0",
          "state": {
            "_model_module": "@jupyter-widgets/controls",
            "_model_module_version": "1.5.0",
            "_model_name": "ProgressStyleModel",
            "_view_count": null,
            "_view_module": "@jupyter-widgets/base",
            "_view_module_version": "1.2.0",
            "_view_name": "StyleView",
            "bar_color": null,
            "description_width": ""
          }
        },
        "63560a9dcd2845d8b7f3da7b5413d99b": {
          "model_module": "@jupyter-widgets/base",
          "model_name": "LayoutModel",
          "model_module_version": "1.2.0",
          "state": {
            "_model_module": "@jupyter-widgets/base",
            "_model_module_version": "1.2.0",
            "_model_name": "LayoutModel",
            "_view_count": null,
            "_view_module": "@jupyter-widgets/base",
            "_view_module_version": "1.2.0",
            "_view_name": "LayoutView",
            "align_content": null,
            "align_items": null,
            "align_self": null,
            "border": null,
            "bottom": null,
            "display": null,
            "flex": null,
            "flex_flow": null,
            "grid_area": null,
            "grid_auto_columns": null,
            "grid_auto_flow": null,
            "grid_auto_rows": null,
            "grid_column": null,
            "grid_gap": null,
            "grid_row": null,
            "grid_template_areas": null,
            "grid_template_columns": null,
            "grid_template_rows": null,
            "height": null,
            "justify_content": null,
            "justify_items": null,
            "left": null,
            "margin": null,
            "max_height": null,
            "max_width": null,
            "min_height": null,
            "min_width": null,
            "object_fit": null,
            "object_position": null,
            "order": null,
            "overflow": null,
            "overflow_x": null,
            "overflow_y": null,
            "padding": null,
            "right": null,
            "top": null,
            "visibility": null,
            "width": null
          }
        },
        "3f054c52d773475d9950bbfe1ec33502": {
          "model_module": "@jupyter-widgets/controls",
          "model_name": "DescriptionStyleModel",
          "model_module_version": "1.5.0",
          "state": {
            "_model_module": "@jupyter-widgets/controls",
            "_model_module_version": "1.5.0",
            "_model_name": "DescriptionStyleModel",
            "_view_count": null,
            "_view_module": "@jupyter-widgets/base",
            "_view_module_version": "1.2.0",
            "_view_name": "StyleView",
            "description_width": ""
          }
        },
        "8e63d2b86d4845ca8e76f25eef0549e7": {
          "model_module": "@jupyter-widgets/controls",
          "model_name": "HBoxModel",
          "model_module_version": "1.5.0",
          "state": {
            "_dom_classes": [],
            "_model_module": "@jupyter-widgets/controls",
            "_model_module_version": "1.5.0",
            "_model_name": "HBoxModel",
            "_view_count": null,
            "_view_module": "@jupyter-widgets/controls",
            "_view_module_version": "1.5.0",
            "_view_name": "HBoxView",
            "box_style": "",
            "children": [
              "IPY_MODEL_0faa83c0783541cb9ea842d739fcf0bd",
              "IPY_MODEL_909604dc3e004c7284770dd97f5dab13",
              "IPY_MODEL_e67db08cd5e1460fa1224e7558133255"
            ],
            "layout": "IPY_MODEL_04b58dbc67a14b4098ffe1ac0681e631"
          }
        },
        "0faa83c0783541cb9ea842d739fcf0bd": {
          "model_module": "@jupyter-widgets/controls",
          "model_name": "HTMLModel",
          "model_module_version": "1.5.0",
          "state": {
            "_dom_classes": [],
            "_model_module": "@jupyter-widgets/controls",
            "_model_module_version": "1.5.0",
            "_model_name": "HTMLModel",
            "_view_count": null,
            "_view_module": "@jupyter-widgets/controls",
            "_view_module_version": "1.5.0",
            "_view_name": "HTMLView",
            "description": "",
            "description_tooltip": null,
            "layout": "IPY_MODEL_c67aea32e51d47319c191f2eb3d83f40",
            "placeholder": "​",
            "style": "IPY_MODEL_91da85030f9049cd812b27f5fdbc152e",
            "value": "Downloading artifacts:   0%"
          }
        },
        "909604dc3e004c7284770dd97f5dab13": {
          "model_module": "@jupyter-widgets/controls",
          "model_name": "FloatProgressModel",
          "model_module_version": "1.5.0",
          "state": {
            "_dom_classes": [],
            "_model_module": "@jupyter-widgets/controls",
            "_model_module_version": "1.5.0",
            "_model_name": "FloatProgressModel",
            "_view_count": null,
            "_view_module": "@jupyter-widgets/controls",
            "_view_module_version": "1.5.0",
            "_view_name": "ProgressView",
            "bar_style": "danger",
            "description": "",
            "description_tooltip": null,
            "layout": "IPY_MODEL_53fcdc4994aa41d9988c2b278cff2f43",
            "max": 1,
            "min": 0,
            "orientation": "horizontal",
            "style": "IPY_MODEL_41f09ad25e454e129436b93acbe98ab3",
            "value": 0
          }
        },
        "e67db08cd5e1460fa1224e7558133255": {
          "model_module": "@jupyter-widgets/controls",
          "model_name": "HTMLModel",
          "model_module_version": "1.5.0",
          "state": {
            "_dom_classes": [],
            "_model_module": "@jupyter-widgets/controls",
            "_model_module_version": "1.5.0",
            "_model_name": "HTMLModel",
            "_view_count": null,
            "_view_module": "@jupyter-widgets/controls",
            "_view_module_version": "1.5.0",
            "_view_name": "HTMLView",
            "description": "",
            "description_tooltip": null,
            "layout": "IPY_MODEL_9bc80aab70e24a68825e88505431e6e8",
            "placeholder": "​",
            "style": "IPY_MODEL_f3f717b77d35464aa43e695cfe1344df",
            "value": " 0/1 [00:00&lt;?, ?it/s]"
          }
        },
        "04b58dbc67a14b4098ffe1ac0681e631": {
          "model_module": "@jupyter-widgets/base",
          "model_name": "LayoutModel",
          "model_module_version": "1.2.0",
          "state": {
            "_model_module": "@jupyter-widgets/base",
            "_model_module_version": "1.2.0",
            "_model_name": "LayoutModel",
            "_view_count": null,
            "_view_module": "@jupyter-widgets/base",
            "_view_module_version": "1.2.0",
            "_view_name": "LayoutView",
            "align_content": null,
            "align_items": null,
            "align_self": null,
            "border": null,
            "bottom": null,
            "display": null,
            "flex": null,
            "flex_flow": null,
            "grid_area": null,
            "grid_auto_columns": null,
            "grid_auto_flow": null,
            "grid_auto_rows": null,
            "grid_column": null,
            "grid_gap": null,
            "grid_row": null,
            "grid_template_areas": null,
            "grid_template_columns": null,
            "grid_template_rows": null,
            "height": null,
            "justify_content": null,
            "justify_items": null,
            "left": null,
            "margin": null,
            "max_height": null,
            "max_width": null,
            "min_height": null,
            "min_width": null,
            "object_fit": null,
            "object_position": null,
            "order": null,
            "overflow": null,
            "overflow_x": null,
            "overflow_y": null,
            "padding": null,
            "right": null,
            "top": null,
            "visibility": null,
            "width": null
          }
        },
        "c67aea32e51d47319c191f2eb3d83f40": {
          "model_module": "@jupyter-widgets/base",
          "model_name": "LayoutModel",
          "model_module_version": "1.2.0",
          "state": {
            "_model_module": "@jupyter-widgets/base",
            "_model_module_version": "1.2.0",
            "_model_name": "LayoutModel",
            "_view_count": null,
            "_view_module": "@jupyter-widgets/base",
            "_view_module_version": "1.2.0",
            "_view_name": "LayoutView",
            "align_content": null,
            "align_items": null,
            "align_self": null,
            "border": null,
            "bottom": null,
            "display": null,
            "flex": null,
            "flex_flow": null,
            "grid_area": null,
            "grid_auto_columns": null,
            "grid_auto_flow": null,
            "grid_auto_rows": null,
            "grid_column": null,
            "grid_gap": null,
            "grid_row": null,
            "grid_template_areas": null,
            "grid_template_columns": null,
            "grid_template_rows": null,
            "height": null,
            "justify_content": null,
            "justify_items": null,
            "left": null,
            "margin": null,
            "max_height": null,
            "max_width": null,
            "min_height": null,
            "min_width": null,
            "object_fit": null,
            "object_position": null,
            "order": null,
            "overflow": null,
            "overflow_x": null,
            "overflow_y": null,
            "padding": null,
            "right": null,
            "top": null,
            "visibility": null,
            "width": null
          }
        },
        "91da85030f9049cd812b27f5fdbc152e": {
          "model_module": "@jupyter-widgets/controls",
          "model_name": "DescriptionStyleModel",
          "model_module_version": "1.5.0",
          "state": {
            "_model_module": "@jupyter-widgets/controls",
            "_model_module_version": "1.5.0",
            "_model_name": "DescriptionStyleModel",
            "_view_count": null,
            "_view_module": "@jupyter-widgets/base",
            "_view_module_version": "1.2.0",
            "_view_name": "StyleView",
            "description_width": ""
          }
        },
        "53fcdc4994aa41d9988c2b278cff2f43": {
          "model_module": "@jupyter-widgets/base",
          "model_name": "LayoutModel",
          "model_module_version": "1.2.0",
          "state": {
            "_model_module": "@jupyter-widgets/base",
            "_model_module_version": "1.2.0",
            "_model_name": "LayoutModel",
            "_view_count": null,
            "_view_module": "@jupyter-widgets/base",
            "_view_module_version": "1.2.0",
            "_view_name": "LayoutView",
            "align_content": null,
            "align_items": null,
            "align_self": null,
            "border": null,
            "bottom": null,
            "display": null,
            "flex": null,
            "flex_flow": null,
            "grid_area": null,
            "grid_auto_columns": null,
            "grid_auto_flow": null,
            "grid_auto_rows": null,
            "grid_column": null,
            "grid_gap": null,
            "grid_row": null,
            "grid_template_areas": null,
            "grid_template_columns": null,
            "grid_template_rows": null,
            "height": null,
            "justify_content": null,
            "justify_items": null,
            "left": null,
            "margin": null,
            "max_height": null,
            "max_width": null,
            "min_height": null,
            "min_width": null,
            "object_fit": null,
            "object_position": null,
            "order": null,
            "overflow": null,
            "overflow_x": null,
            "overflow_y": null,
            "padding": null,
            "right": null,
            "top": null,
            "visibility": null,
            "width": null
          }
        },
        "41f09ad25e454e129436b93acbe98ab3": {
          "model_module": "@jupyter-widgets/controls",
          "model_name": "ProgressStyleModel",
          "model_module_version": "1.5.0",
          "state": {
            "_model_module": "@jupyter-widgets/controls",
            "_model_module_version": "1.5.0",
            "_model_name": "ProgressStyleModel",
            "_view_count": null,
            "_view_module": "@jupyter-widgets/base",
            "_view_module_version": "1.2.0",
            "_view_name": "StyleView",
            "bar_color": null,
            "description_width": ""
          }
        },
        "9bc80aab70e24a68825e88505431e6e8": {
          "model_module": "@jupyter-widgets/base",
          "model_name": "LayoutModel",
          "model_module_version": "1.2.0",
          "state": {
            "_model_module": "@jupyter-widgets/base",
            "_model_module_version": "1.2.0",
            "_model_name": "LayoutModel",
            "_view_count": null,
            "_view_module": "@jupyter-widgets/base",
            "_view_module_version": "1.2.0",
            "_view_name": "LayoutView",
            "align_content": null,
            "align_items": null,
            "align_self": null,
            "border": null,
            "bottom": null,
            "display": null,
            "flex": null,
            "flex_flow": null,
            "grid_area": null,
            "grid_auto_columns": null,
            "grid_auto_flow": null,
            "grid_auto_rows": null,
            "grid_column": null,
            "grid_gap": null,
            "grid_row": null,
            "grid_template_areas": null,
            "grid_template_columns": null,
            "grid_template_rows": null,
            "height": null,
            "justify_content": null,
            "justify_items": null,
            "left": null,
            "margin": null,
            "max_height": null,
            "max_width": null,
            "min_height": null,
            "min_width": null,
            "object_fit": null,
            "object_position": null,
            "order": null,
            "overflow": null,
            "overflow_x": null,
            "overflow_y": null,
            "padding": null,
            "right": null,
            "top": null,
            "visibility": null,
            "width": null
          }
        },
        "f3f717b77d35464aa43e695cfe1344df": {
          "model_module": "@jupyter-widgets/controls",
          "model_name": "DescriptionStyleModel",
          "model_module_version": "1.5.0",
          "state": {
            "_model_module": "@jupyter-widgets/controls",
            "_model_module_version": "1.5.0",
            "_model_name": "DescriptionStyleModel",
            "_view_count": null,
            "_view_module": "@jupyter-widgets/base",
            "_view_module_version": "1.2.0",
            "_view_name": "StyleView",
            "description_width": ""
          }
        },
        "ad2ea6c8c8614877ad11655e6a864fa5": {
          "model_module": "@jupyter-widgets/controls",
          "model_name": "HBoxModel",
          "model_module_version": "1.5.0",
          "state": {
            "_dom_classes": [],
            "_model_module": "@jupyter-widgets/controls",
            "_model_module_version": "1.5.0",
            "_model_name": "HBoxModel",
            "_view_count": null,
            "_view_module": "@jupyter-widgets/controls",
            "_view_module_version": "1.5.0",
            "_view_name": "HBoxView",
            "box_style": "",
            "children": [
              "IPY_MODEL_cf8c220e89a04330a4d9865f85bf37c3",
              "IPY_MODEL_10b4ae0af81f46b1b72e05765d280457",
              "IPY_MODEL_8d42197dac4540e09ea707553faae689"
            ],
            "layout": "IPY_MODEL_a1803815030b489285de9b76dad796cd"
          }
        },
        "cf8c220e89a04330a4d9865f85bf37c3": {
          "model_module": "@jupyter-widgets/controls",
          "model_name": "HTMLModel",
          "model_module_version": "1.5.0",
          "state": {
            "_dom_classes": [],
            "_model_module": "@jupyter-widgets/controls",
            "_model_module_version": "1.5.0",
            "_model_name": "HTMLModel",
            "_view_count": null,
            "_view_module": "@jupyter-widgets/controls",
            "_view_module_version": "1.5.0",
            "_view_name": "HTMLView",
            "description": "",
            "description_tooltip": null,
            "layout": "IPY_MODEL_cff7a6e0194349f2a8ecd847df4306d0",
            "placeholder": "​",
            "style": "IPY_MODEL_dd7ead02bb5d4eaba8c4ede55340a24f",
            "value": "Downloading artifacts: 100%"
          }
        },
        "10b4ae0af81f46b1b72e05765d280457": {
          "model_module": "@jupyter-widgets/controls",
          "model_name": "FloatProgressModel",
          "model_module_version": "1.5.0",
          "state": {
            "_dom_classes": [],
            "_model_module": "@jupyter-widgets/controls",
            "_model_module_version": "1.5.0",
            "_model_name": "FloatProgressModel",
            "_view_count": null,
            "_view_module": "@jupyter-widgets/controls",
            "_view_module_version": "1.5.0",
            "_view_name": "ProgressView",
            "bar_style": "success",
            "description": "",
            "description_tooltip": null,
            "layout": "IPY_MODEL_875c258c600e4a429bcb732607296d08",
            "max": 7,
            "min": 0,
            "orientation": "horizontal",
            "style": "IPY_MODEL_6ada8131e26a460b8ba4ba2d46856ef0",
            "value": 7
          }
        },
        "8d42197dac4540e09ea707553faae689": {
          "model_module": "@jupyter-widgets/controls",
          "model_name": "HTMLModel",
          "model_module_version": "1.5.0",
          "state": {
            "_dom_classes": [],
            "_model_module": "@jupyter-widgets/controls",
            "_model_module_version": "1.5.0",
            "_model_name": "HTMLModel",
            "_view_count": null,
            "_view_module": "@jupyter-widgets/controls",
            "_view_module_version": "1.5.0",
            "_view_name": "HTMLView",
            "description": "",
            "description_tooltip": null,
            "layout": "IPY_MODEL_cf7691fdf80b42609daf48fae5f2602d",
            "placeholder": "​",
            "style": "IPY_MODEL_60233bb2247e431398b9735a9f6e55e3",
            "value": " 7/7 [00:00&lt;00:00, 19.54it/s]"
          }
        },
        "a1803815030b489285de9b76dad796cd": {
          "model_module": "@jupyter-widgets/base",
          "model_name": "LayoutModel",
          "model_module_version": "1.2.0",
          "state": {
            "_model_module": "@jupyter-widgets/base",
            "_model_module_version": "1.2.0",
            "_model_name": "LayoutModel",
            "_view_count": null,
            "_view_module": "@jupyter-widgets/base",
            "_view_module_version": "1.2.0",
            "_view_name": "LayoutView",
            "align_content": null,
            "align_items": null,
            "align_self": null,
            "border": null,
            "bottom": null,
            "display": null,
            "flex": null,
            "flex_flow": null,
            "grid_area": null,
            "grid_auto_columns": null,
            "grid_auto_flow": null,
            "grid_auto_rows": null,
            "grid_column": null,
            "grid_gap": null,
            "grid_row": null,
            "grid_template_areas": null,
            "grid_template_columns": null,
            "grid_template_rows": null,
            "height": null,
            "justify_content": null,
            "justify_items": null,
            "left": null,
            "margin": null,
            "max_height": null,
            "max_width": null,
            "min_height": null,
            "min_width": null,
            "object_fit": null,
            "object_position": null,
            "order": null,
            "overflow": null,
            "overflow_x": null,
            "overflow_y": null,
            "padding": null,
            "right": null,
            "top": null,
            "visibility": null,
            "width": null
          }
        },
        "cff7a6e0194349f2a8ecd847df4306d0": {
          "model_module": "@jupyter-widgets/base",
          "model_name": "LayoutModel",
          "model_module_version": "1.2.0",
          "state": {
            "_model_module": "@jupyter-widgets/base",
            "_model_module_version": "1.2.0",
            "_model_name": "LayoutModel",
            "_view_count": null,
            "_view_module": "@jupyter-widgets/base",
            "_view_module_version": "1.2.0",
            "_view_name": "LayoutView",
            "align_content": null,
            "align_items": null,
            "align_self": null,
            "border": null,
            "bottom": null,
            "display": null,
            "flex": null,
            "flex_flow": null,
            "grid_area": null,
            "grid_auto_columns": null,
            "grid_auto_flow": null,
            "grid_auto_rows": null,
            "grid_column": null,
            "grid_gap": null,
            "grid_row": null,
            "grid_template_areas": null,
            "grid_template_columns": null,
            "grid_template_rows": null,
            "height": null,
            "justify_content": null,
            "justify_items": null,
            "left": null,
            "margin": null,
            "max_height": null,
            "max_width": null,
            "min_height": null,
            "min_width": null,
            "object_fit": null,
            "object_position": null,
            "order": null,
            "overflow": null,
            "overflow_x": null,
            "overflow_y": null,
            "padding": null,
            "right": null,
            "top": null,
            "visibility": null,
            "width": null
          }
        },
        "dd7ead02bb5d4eaba8c4ede55340a24f": {
          "model_module": "@jupyter-widgets/controls",
          "model_name": "DescriptionStyleModel",
          "model_module_version": "1.5.0",
          "state": {
            "_model_module": "@jupyter-widgets/controls",
            "_model_module_version": "1.5.0",
            "_model_name": "DescriptionStyleModel",
            "_view_count": null,
            "_view_module": "@jupyter-widgets/base",
            "_view_module_version": "1.2.0",
            "_view_name": "StyleView",
            "description_width": ""
          }
        },
        "875c258c600e4a429bcb732607296d08": {
          "model_module": "@jupyter-widgets/base",
          "model_name": "LayoutModel",
          "model_module_version": "1.2.0",
          "state": {
            "_model_module": "@jupyter-widgets/base",
            "_model_module_version": "1.2.0",
            "_model_name": "LayoutModel",
            "_view_count": null,
            "_view_module": "@jupyter-widgets/base",
            "_view_module_version": "1.2.0",
            "_view_name": "LayoutView",
            "align_content": null,
            "align_items": null,
            "align_self": null,
            "border": null,
            "bottom": null,
            "display": null,
            "flex": null,
            "flex_flow": null,
            "grid_area": null,
            "grid_auto_columns": null,
            "grid_auto_flow": null,
            "grid_auto_rows": null,
            "grid_column": null,
            "grid_gap": null,
            "grid_row": null,
            "grid_template_areas": null,
            "grid_template_columns": null,
            "grid_template_rows": null,
            "height": null,
            "justify_content": null,
            "justify_items": null,
            "left": null,
            "margin": null,
            "max_height": null,
            "max_width": null,
            "min_height": null,
            "min_width": null,
            "object_fit": null,
            "object_position": null,
            "order": null,
            "overflow": null,
            "overflow_x": null,
            "overflow_y": null,
            "padding": null,
            "right": null,
            "top": null,
            "visibility": null,
            "width": null
          }
        },
        "6ada8131e26a460b8ba4ba2d46856ef0": {
          "model_module": "@jupyter-widgets/controls",
          "model_name": "ProgressStyleModel",
          "model_module_version": "1.5.0",
          "state": {
            "_model_module": "@jupyter-widgets/controls",
            "_model_module_version": "1.5.0",
            "_model_name": "ProgressStyleModel",
            "_view_count": null,
            "_view_module": "@jupyter-widgets/base",
            "_view_module_version": "1.2.0",
            "_view_name": "StyleView",
            "bar_color": null,
            "description_width": ""
          }
        },
        "cf7691fdf80b42609daf48fae5f2602d": {
          "model_module": "@jupyter-widgets/base",
          "model_name": "LayoutModel",
          "model_module_version": "1.2.0",
          "state": {
            "_model_module": "@jupyter-widgets/base",
            "_model_module_version": "1.2.0",
            "_model_name": "LayoutModel",
            "_view_count": null,
            "_view_module": "@jupyter-widgets/base",
            "_view_module_version": "1.2.0",
            "_view_name": "LayoutView",
            "align_content": null,
            "align_items": null,
            "align_self": null,
            "border": null,
            "bottom": null,
            "display": null,
            "flex": null,
            "flex_flow": null,
            "grid_area": null,
            "grid_auto_columns": null,
            "grid_auto_flow": null,
            "grid_auto_rows": null,
            "grid_column": null,
            "grid_gap": null,
            "grid_row": null,
            "grid_template_areas": null,
            "grid_template_columns": null,
            "grid_template_rows": null,
            "height": null,
            "justify_content": null,
            "justify_items": null,
            "left": null,
            "margin": null,
            "max_height": null,
            "max_width": null,
            "min_height": null,
            "min_width": null,
            "object_fit": null,
            "object_position": null,
            "order": null,
            "overflow": null,
            "overflow_x": null,
            "overflow_y": null,
            "padding": null,
            "right": null,
            "top": null,
            "visibility": null,
            "width": null
          }
        },
        "60233bb2247e431398b9735a9f6e55e3": {
          "model_module": "@jupyter-widgets/controls",
          "model_name": "DescriptionStyleModel",
          "model_module_version": "1.5.0",
          "state": {
            "_model_module": "@jupyter-widgets/controls",
            "_model_module_version": "1.5.0",
            "_model_name": "DescriptionStyleModel",
            "_view_count": null,
            "_view_module": "@jupyter-widgets/base",
            "_view_module_version": "1.2.0",
            "_view_name": "StyleView",
            "description_width": ""
          }
        }
      }
    }
  },
  "nbformat": 4,
  "nbformat_minor": 5
}